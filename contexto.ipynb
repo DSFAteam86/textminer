{
 "cells": [
  {
   "cell_type": "code",
   "execution_count": 2,
   "metadata": {},
   "outputs": [],
   "source": [
    "# Importar módulos y paquetes necesarios\n",
    "import re\n",
    "\n",
    "from contexto.lectura import Lector, leer_texto\n",
    "from contexto.escritura import Escritor, escribir_texto\n",
    "\n",
    "# Rutas de los archivos de los cuales se va a extraer texto\n",
    "archivo_txt = 'entrada/prueba_in.txt'\n",
    "archivo_pdf = 'entrada/prueba_in.pdf'\n",
    "archivo_pdf_ocr = 'entrada/prueba_in_ocr.pdf'\n",
    "archivo_docx = 'entrada/prueba_in.docx'\n",
    "archivo_doc = 'entrada/prueba_in.doc'\n",
    "archivo_rtf = 'entrada/prueba_in.rtf'\n",
    "archivo_img = 'entrada/prueba_in.png'"
   ]
  },
  {
   "cell_type": "code",
   "execution_count": 15,
   "metadata": {},
   "outputs": [
    {
     "data": {
      "text/plain": [
       "list"
      ]
     },
     "execution_count": 15,
     "metadata": {},
     "output_type": "execute_result"
    }
   ],
   "source": [
    "import os\n",
    "lista=os.listdir('C:\\\\src\\\\notebooks\\\\Proyecto\\\\contratos\\\\datos')\n",
    "type(lista)"
   ]
  },
  {
   "cell_type": "code",
   "execution_count": 32,
   "metadata": {},
   "outputs": [
    {
     "name": "stdout",
     "output_type": "stream",
     "text": [
      ".\\datos\\20-12-11063407-10215057\\13-CONTRATO.pdf\n",
      ".\\datos\\20-12-11064028-10215707\\13-CONTRATO DE PRESTACIÃ“N DE SERVICIOS 851-2020.pdf\n",
      ".\\datos\\20-4-11064044-10215723\\13-CONTRATO.pdf\n"
     ]
    }
   ],
   "source": [
    "path = '.\\\\datos'\n",
    "\n",
    "files = []\n",
    "dirs=[]\n",
    "# r=root, d=directories, f = files\n",
    "for r, d, f in os.walk(path):\n",
    "    for file in f:\n",
    "        if '13-' in file:\n",
    "            files.append(os.path.join(r, file))\n",
    "\n",
    "for f in files:\n",
    "    str(root.split(\"\\\\\")[2]\n",
    "    print(f)\n",
    "\n"
   ]
  },
  {
   "cell_type": "code",
   "execution_count": 62,
   "metadata": {},
   "outputs": [
    {
     "name": "stderr",
     "output_type": "stream",
     "text": [
      "WARNING:root:Parser index out of bounds\n",
      "WARNING:root:Wrong type: None required: (<class 'list'>, <class 'tuple'>)\n",
      "WARNING:root:Wrong type: None required: (<class 'list'>, <class 'tuple'>)\n",
      "WARNING:root:Wrong type: None required: (<class 'list'>, <class 'tuple'>)\n",
      "WARNING:root:Wrong type: None required: (<class 'list'>, <class 'tuple'>)\n",
      "WARNING:root:Wrong type: None required: (<class 'list'>, <class 'tuple'>)\n",
      "WARNING:root:Wrong type: None required: (<class 'list'>, <class 'tuple'>)\n",
      "WARNING:root:Wrong type: None required: (<class 'list'>, <class 'tuple'>)\n"
     ]
    },
    {
     "name": "stdout",
     "output_type": "stream",
     "text": [
      "[{'uid': '20-12-11063407-10215057', 'name': '13-CONTRATO.pdf', 'pages': ['', '', '', '', '', '', '', '', '', '', '', '', '26 dias del mes de Agosto de 2020.', '']}, {'uid': '20-12-11064028-10215707', 'name': '13-CONTRATO DE PRESTACIÃ“N DE SERVICIOS 851-2020.pdf', 'pages': ['CONTRATO DE PRESTACION DE \\nSERVICIOS \\n\\nCódigo: F-GA-053 \\n\\nVersión: 2.0 \\n\\nPágina 1 de 6 \\n\\nMUNICIPIO DE \\n\\nPIEDECUESTA \\n\\nCONTRATO N° 8 5 1 2 0 2 O \\n\\nEntre EL MUNICIPIO DE PIEDECUESTA, a través de JAIME ROGERIO BAEZ \\nRANGEL, mayor de edad, identificado con la Cédula de Ciudadan ía N° 91.351.257 \\nexpedida en Piedecuesta, nombrado como Secretario General y de las Tic, según \\nResolución N° 001-P- 2020 del 01 de enero de 2020 y acta de posesión No 001-\\n2020, que reposan en los archivos de la Oficina de Personal de la Entidad, delegado \\npor el Alcalde Municipal para celebrar contratos mediante Decreto Municipal N° 074 \\nde 2020, quien a su vez se encuentra autorizado por el acuerdo 025 de 2016 \\nmodificado por el Acuerdo Municipal 009 de 2017, para suscribir contratos y/o \\nconvenios, quien para los efectos de este contrato se denominará EL MUNICIPIO, \\npor una parte, y por la otra ALEXANDRA FAJARDO CONTRERAS, mayor de edad, \\nidentificado(a) con la Cédula de Ciudadan ía N ° 60.338.180 expedida en Cúcuta, \\nquien en adelante se denominará EL CONTRATISTA, hemos convenido en celebrar \\nel presente Contrato de Prestación de Servicios profesionales, que se regirá por la \\nLey 80 de 1993, el literal h), numeral 4, artículo 2 de la Ley 1150 de 2007, el artículo \\n2.2.1.2.1.4.9 del Decreto 1082 de 2015 y demás normas legales vigentes y previas \\nlas siguientes CONSIDERACIONES: 1) Que existe informe de estudios previos \\nsuscrito por el SECRETARIO GENERAL Y DE LAS TIC y ORDENADOR DEL \\nGASTO, en el cual se encuentra sustentada la necesidad y conveniencia de la \\ncontratación referida, el cual se elaboró a partir del requerimiento y sustento \\npresentado por la dependencia en la cual se ejecutará el objeto contractual, así como \\nla existencia de los elementos que hacen oportuna su contratación. \\n2) Que existe \\ncertificado en el cual se verifica INSUFICIENCIA del personal de planta para realizar \\nel objeto a contratar. 3) Que el presente contrato está sujeto a las respectivas \\napropiaciones presupuestales, mediante Certificado de Disponibilidad Presupuestal \\nN° 20-00638 de fecha 07 de Julio de 2020 y Certificación No 071-20 del Banco de \\nproyectos de inversi ón Municipal de Piedecuesta bajo el número 2020685470053 \\nexpedida por el Jefe de la Oficina Asesora de Planeación del Municipio \\n4) Que el \\ncontratista manifiesta bajo la gravedad del juramento que no se halla incurso en \\nninguna causal de incompatibilidad o inhabilidad, prohibición o conflicto de intereses \\nseñalado en la Ley que le impida celebrar este contrato, dejando indemne al \\nMunicipio por esta manifestación. \\n5) Que se verificaron los antecedentes del \\ncontratista, sin encontrar impedimento alguno para la suscripción del contrato. \\nQue la supervisi ón para la ejecución y cumplimiento del presente Contrato será \\nrealizada por la Alcaldía Municipal de Piedecuesta a través del supervisor designado \\npor el Ordenador del Gasto mediante comunicación interna. Que en consideración a \\nlo anterior, hemos acordado las siguientes: CLÁUSULA PRIMERA - OBJETO:  EL \\nCONTRATISTA se compromete para con EL MUNICIPIO a PRESTAR LOS \\nSERVICIOS PROFESIONALES EN LA OFICINA ASESORA DE PLANEACI ÓN \\nCOMO ENLACE EN LOS PROCESOS DE ORGANIZACIÓN, OPERACIÓN Y \\nACTUALIZACIÓN DEL SISBEN, EN EL MARCO DEL PROYECTO DE \\nFORTALECIMIENTO DE LOS PROCESOS DE LA OFICINA ASESORA DE \\nPLANEACION DEL MUNICIPIO DE PIEDECUESTA- SANTANDER. -- CLÁUSULA  \\n\\nSEGUNDA - VALOR DEL CONTRATO Y FORMA DE PAGO:  El valor del contrato \\n\\n6) \\n\\nes por la suma de DIEZ MILLONES QUINIENTOS MIL PESOS ($10.500.000) que \\nserán cancelados en TRES (3) pagos mensuales consecutivos mes vencido por \\nvalor de TRES MILLONES DE PESOS ($3.000.000) y un último pago por QUINCE \\n(15) días por valor de UN MILLON QUINIENTOS MIL PESOS ($1.500.000) por \\nconcepto de honorarios. Para el pago, se deberán allegar los siguientes \\ndocumentos: factura o documento equivalente, certificado de disponibilidad \\npresupuestal, registro presupuestal, acta de inicio, informe de cumplimiento, informe \\n\\nCódigo: F-GA-053 \\n\\nVersión: 2.0 \\n\\nElaboró: Área de Contrataci ón \\n\\nRevisó: Área de Contratación \\n\\nPágina 1 de 6 \\n\\nAprobó: SGC \\n\\nCOPIA CONTROLADA \\n\\n \\n \\n \\n \\n', 'CONTRATO DE PRESTACION DE \\nSERVICIOS \\n\\nCódigo: F-GA-053 \\n\\nVersión: 2.0 \\n\\nPágina 2 de 6 \\n\\nMUNICIPIO DE \\n\\nPIEDECUESTA \\n\\nde supervisión, pago de pensión, salud, riesgos laborales y previo cumplimiento de \\nlas obligaciones administrativas requeridas por EL MUNICIPIO para el pago de un \\nContrato Estatal de Prestación de Servicios. PARÁGRAFO PRIMERO: Los pagos a \\nlos cuales se obliga EL MUNICIPIO estarán sujetos a la apropiación presupuestal \\nrespectiva y a la disponibilidad de caja acorde con el Programa Anual Mensualizado \\nde Caja P.A.C. PARÁGRAFO SEGUNDO: EL CONTRATISTA autoriza a EL \\nMUNICIPIO para que por conducto de la Secretaria de Hacienda, efectúe a su favor \\nlas deducciones por concepto de los gravámenes y/o estampillas departamentales, \\nmunicipales o legales a que hubiere lugar, para que fueren transferidos al fondo u \\norganismo correspondiente. PARÁGRAFO TERCERO: Sera requisito para el pago \\ndel contrato la constancia que los documentos que soportan el pago han sido \\nentregados para archivo en la dirección de contratación de la Secretaría General y \\nde las Tic. La Secretaría de Hacienda se abstendrá de tramitar cualquier pago en la \\ncual no se adjunte la constancia aquí señalada. CLÁUSULA TERCERA - PLAZO \\nDE EJECUCION DEL CONTRATO:  El plazo de ejecuci ón del presente contrato es \\nde TRES (3) MESES Y QUINCE (15) DIAS, contados a partir de la fecha de \\nsuscripción del acta de inicio, la cual se suscribirá una vez cumplidos los requisitos \\nde legalización y la expedición del Registro Presupuestal, y en todo caso no podrá \\nsuperar el 31 de diciembre de la presente anualidad, excepto los que tengan \\n\\nvigencias futuras. CLÁUSULA CUARTA - OBLIGACIONES DE LAS PARTES: A. \\n\\nDEL MUNICIPIO: 1) Ejercer el respectivo control en el cumplimiento del objeto del \\ncontrato y expedir el recibo de cumplimiento a satisfacción. 2) Pagar el valor del \\ncontrato de acuerdo con los términos establecidos. 3) Suministrar al Contratista \\ntodos aquellos documentos, información e insumos que requiera para el desarrollo \\nde la actividad encomendada. 4) Prestar su colaboración para el cumplimiento de \\nlas obligaciones del Contratista B. GENERALES DEL CONTRATISTA 1) Dar \\ncumplimiento a las pol íticas, directrices y documentos (manuales, procedimientos, \\ninstructivos, guías, códigos, formatos, etc.) que conforman el Modelo Integrado de \\nPlaneación y Gestión MIPG. 2) Tener en cuenta para el cumplimiento del objeto del \\ncontrato, la organización interna de la Alcaldía de Piedecuesta, para el efecto debe \\ncumplir los procedimientos y diligenciar los formatos establecidos por la entidad para \\nel desarrollo de sus procesos. 3) Asistir cuando se le solicite por el Supervisor del \\ncontrato a reuniones, audiencias y comités. 4) De conformidad con lo establecido en \\nel artículo 23 de la ley 1150 del 2007 el contratista debe: A. Estar afiliado a un fondo \\nde pensiones; B. Estar afiliado a una EPS; C. Realizar los aportes a salud y pensión \\ncon un ingreso base de cotizaci ón (IBC) igual establecido por la normatividad \\nvigente. 5) Presentar los informes que le sean solicitados por el Supervisor del \\ncontrato. 6) Ejecutar las demás actividades necesarias y que específicamente le \\nsean asignadas para lograr un total y fiel cumplimiento del objeto, alcance y \\nobligaciones contratadas, aunque no estén expresamente señaladas en el presente \\ndocumentos, siempre y cuando las mismas correspondan a la naturaleza, objeto y \\nfines pertinentes de la entidad. 7) Ingresar información veraz, oportuna y confiable a \\nlos aplicativos proporcionados por la entidad y generar los reportes requeridos para \\nel cumplimiento del objeto del contrato. 8) No aceptar presiones o amenazas de \\nquienes actúen por fuera de la ley y comunicar oportunamente a la entidad y/o a la \\nautoridad competente, si ello ocurriere, so pena de que el municipio declare la \\ncaducidad del contrato. 9) Allegar dentro de los términos previstos en el contrato, los \\ndocumentos y garantías requeridos para la ejecución del mismo. 10) Respetar la \\npropiedad intelectual en cuanto a la información, conocimiento o cualquier otro interés \\nprotegible que cada uno aporte, si es del caso. En todo caso cualquier publicación, \\npresentación o documento expedido dentro del contrato objeto del presente estudio \\nprevio o resultado del mismo, se tendrá como propiedad de la Alcaldía de Piedecuesta, \\ny el contratista deberá dejar los documentos f ísicos, magnéticos o electrónicos en el \\n\\nCódigo: F-GA-053 \\n\\nVersión: 2.0 \\n\\nElaboró: Área de Contratación \\n\\nRevisó: Área de Contratación \\n\\nPágina 2 de 6 \\n\\nAprobó: SGC \\n\\nCOPIA CONTROLADA \\n\\n \\n', 'CONTRATO DE PRESTACION DE \\nSERVICIOS \\n\\nCódigo: F-GA-053 \\n\\nVersión: 2.0 \\n\\nPágina 3 de 6 \\n\\nMUNICIPIO DE \\n\\nPI EDECUESTA \\n\\nequipo o lugar en que se encuentren dentro de las instalaciones de la entidad. 11) Dar \\ncumplimiento a la ley de archivo (Tabla de Retención \\n\\nDocumental y Manual de Gestión Documental), siendo requisito para que el supervisor \\notorgue el visto bueno a la cuenta y al finalizar se asegure la custodia de la información \\ninstitucional. 12) Hacer entrega de los elementos, equipos, documentos, bases de datos \\ny archivos a su cargo debidamente inventariados, conforme a las normas y \\nprocedimientos establecidos. Además, realizar entrega formal de los usuarios usados \\nen las diferentes plataformas del ámbito nacional, aplicativos o software a nivel territorial \\no de la entidad, la cual debe incluir los perfiles de usuario, claves de acceso y \\nrelacionando las fechas de informes asociados a dichas plataformas. 13) Aplicar los \\nprocedimientos documentados por el área de contratación y utilizar en los diferentes \\nprocesos los formatos adoptados por el equipo de Meci-Calidad y publicados en la \\npágina web www.alcaldiadepiedecuesta.dov.co  opción Sistema Integrado de Gesti ón y \\nControl. 14) El CONTRATISTA se obliga a dar cumplimiento de la normatividad legal \\nvigente aplicable en materia de Seguridad y Salud en el Trabajo en el desarrollo del \\npresente contrato por lo que acatará estrictamente el cumplimiento en esta materia. De \\nigual forma, se obliga al cumplimiento de las normas laborales vigentes aplicables, \\nincluido los pronunciamientos jurisprudenciales, así como los lineamientos y políticas \\ndefinidas por el CONTRATANTE.15) Participar activamente con todo su personal en las \\nactividades que en materia de Seguridad y Salud en el Trabajo sean programadas por \\nel CONTRATANTE durante la ejecución del objeto del Contrato. 16) Apoyar las \\nestrategias y actividades que aseguren la planeación y ejecución del proceso integral \\nde empalme, que guarden relación con su objeto contractual. C. ESPECÍFICAS DEL \\nCONTRATISTA: En desarrollo de la Cláusula Primera del presente Contrato, \\nEL CONTRATISTA, se compromete a realizar las siguientes actividades \\ndurante el plazo del contrato: Para el cumplimiento del objeto convenido el \\nCONTRATISTA deberá realizar las siguientes actividades: 1- Inclusión de \\nfichas nuevas al sistema de identificación y clasificación de potenciales \\nbeneficiarios para programas sociales; 2- Inclusiones, retiros y correcciones de \\n\\nfichas existentes de la base de datos del sistema de identificación y \\nclasificación de potenciales beneficiarios para programas sociales; 3- Inclusi ón \\nen la base de datos del listado censal y elaboración de carné de desplazados, \\ndesmovilizados, pacientes psiquiátricos, población infantil ICBF y ancianos. 4-\\nVisitas y elaboraci ón de reencuestas y encuestas para nuevos beneficiarios al \\nsistema de identificación y clasificación de potenciales beneficiarios para \\nprogramas sociales; 5-; 6- Visitas de inspección a diferentes puntos del casco \\nurbano por solicitud de la comunidad para realizar reencuestas y encuestas por \\ncambios de domicilio e inclusión de mayores de 18 años a fichas existentes; 7-\\nEntrega de informes al supervisor con la periodicidad requerida.8-Realizar el \\narchivo de cada uno de los documentos que le sean asignados, de conformidad \\na la ley 594 de 2000, Ley General de Archivo.--- PARAGRAFO PRIMERO: La \\npersona contratada no tendrá relación de subordinación o dependencia laboral con el \\nmunicipio. PARAGRAFO SEGUNDO: De conformidad con la organización \\nadministrativa, el alcance del proyecto y de necesidades del municipio se podrá \\ndisponer que la persona contratada se dedique prioritaria o exclusivamente a algunos \\nde los asuntos mencionados como parte del alcance del servicio. \\nQUINTA - PRODUCTOS E INFORMES:  En cumplimiento de las cláusulas Primera y \\nSegunda del presente Contrato, EL CONTRATISTA deberá entregar los productos o \\ninformes escritos que le solicite el Supervisor del contrato. No obstante, deberá \\npresentar un informe escrito, que contenga la información detallada del \\ncumplimiento del objeto contractual y de los resultados esperados del servicio.- \\n\\nCLÁUSULA \\n\\nCódigo: F-GA-053 \\n\\nVersión: 2.0 \\n\\nElaboró: Área de Contratación \\n\\nRevisó: Área de Contratación \\n\\nPágina 3 de 6 \\n\\nAprobó: SGC \\n\\nCOPIA CONTROLADA \\n\\n \\n \\n \\n \\n', 'i \\n\\n• \\n\\nCONTRATO DE PRESTACION DE \\nSERVICIOS \\n\\nCódigo: F-GA-053 \\n\\nVersión: 2.0 \\n\\nPágina 4 de 6 \\n\\nMUNICIPIO DE \\n\\nPIEDECUESTA \\n\\n--- CLÁUSULA SEXTA - AUTONOMÍA: \\n\\nPor tratarse de un Contrato de \\nPrestación de Servicios regido por el numeral 3 del artículo 32 de la Ley 80 de 1993, \\nEL CONTRATISTA actuará con total autonomía técnica y administrativa para \\ndesarrollar el objeto contractual en el cumplimiento de las obligaciones que asume \\n\\npor el presente contrato. CLÁUSULA SÉPTIMA — INEXISTENCIA DE RELACIÓN  \\n\\nLABORAL: El presente contrato no genera relación laboral entre las partes. \\n\\nCLÁUSULA OCTAVA - LUGAR DE CUMPLIMIENTO Y DOMICILIO  \\n\\nCONTRACTUAL:  Para cualquier efecto, el lugar de domicilio contractual es el \\nMunicipio de Piedecuesta (Santander), y el lugar de cumplimiento de las obligaciones \\ncontractuales será el Municipio de Piedecuesta (Santander). CLÁUSULA NOVENA -\\n\\nCUMPLIMIENTO DE LAS OBLIGACIONES AL SISTEMA DE SEGURIDAD SOCIAL \\n\\nnormas. CLÁUSULA D ÉCIMA - GARANTÍA ÚNICA: \\n\\ndocumentos previos. CLÁUSULA DÉCIMO PRIMERA - MULTAS: \\n\\nINTEGRAL:  Conforme a lo establecido en el artículo 244 de la Ley 1955 de 2019, el \\nartículo 50 de la Ley 789 de 2002, el artículo 41 de la Ley 80 de 1993 modificado por \\nel artículo 23 de la Ley 1150 de 2007 y la Ley 100 de 1993 y demás normas \\nreglamentarias, complementarias y modificatorias pertinentes, EL MUNICIPIO \\nverificará a través de la Supervisión del Contrato con periodicidad mensual, los pagos \\nefectuados por concepto de Seguridad Social Integral y dejará constancia del \\ncumplimiento por parte del CONTRATISTA de sus obligaciones para con el Sistema \\nde Seguridad Social Integral, en los términos establecidos en las mencionadas \\n Este contrato estará exento de \\ngarant ías de conformidad con el artículo 2.2.1.2.1.4.5 decreto 1082 de 2015 el cual \\nseñala: En la contratación directa la exigencia de garantías establecidas en la Secci ón \\n3, que comprende los artículos 2.2.1.2.3.1.1 al 2.2.1.2.3.5.1.del presente decreto no \\nes obligatoria y la justificación para exigirlas o no debe estar en los estudios y \\n En caso de mora \\no de incumplimiento parcial de las obligaciones contractuales a cargo de EL \\nCONTRATISTA, éste autoriza expresamente, mediante el presente documento al \\nContratante para efectuar la tasación y cobro mediante Acto Administrativo \\ndebidamente motivado de multas sucesivas al dos por mil (2/1000) del valor total del \\ncontrato, por cada día de atraso en el cumplimiento de las obligaciones pactadas. Las \\nmultas tendrán un tope máximo del veinte por ciento (20%) del valor total del mismo. \\nPARÁGRAFO PRIMERO: La liquidación de las multas las efectuará descontando el \\nvalor de las mismas en los pagos parciales y/o final, según sea del caso. \\nPARÁGRAFO SEGUNDO: En el evento de que no puedan ser descontadas \\noportunamente o no sean pagadas dentro del mes siguiente a su tasación por parte \\ndel contratista, se incluirán en la liquidaci ón efectuada, la cual prestará mérito \\nejecutivo e, igualmente, su cobro podrá efectuarse con cargo a la garantía de \\ncumplimiento. PARÁGRAFO TERCERO: De las multas tasadas, impuestas y \\ncobradas, se informará a la Cámara de Comercio. CLÁUSULA DÉCIMO SEGUNDA  \\n Cuando surjan \\ndiferencias entre las partes con motivo del presente contrato, se acudirá a los \\nmecanismos de solución de controversias contractuales estipuladas en la Ley 80 de \\n1993 y demás normas concordantes. CLÁUSULA DÉCIMO TERCERA -\\nCADUCIDAD Y EFECTOS:  Si se presenta alguno de los hechos constitutivos de \\nincumplimiento de cualquiera de las obligaciones a cargo de EL CONTRATISTA, que \\nafecte de manera grave y directa la ejecución del contrato y se evidencia, a criterio \\nde EL MUNICIPIO, que puede conducir a su paralización, EL MUNICIPIO, mediante \\nActo motivado, lo dará por terminado y ordenará su liquidación en el estado en que \\nse encuentre. PARÁGRAFO: Lo pactado en esta Cláusula se sujetará a lo estipulado \\nen el art ículo 18 de la Ley 80 de 1993. CLÁUSULA D ÉCIMO CUARTA -\\nCLÁUSULAS EXCEPCIONALES:  Son aplicables al presente contrato las cláusula \\nexcepcionales de terminación, modificación e interpretación, previstas en los artículos \\n15, 16 y 17 de la Ley 80 de 1993.. CLÁUSULA DÉCIMO QUINTA - \\n\\n- SOLUCIÓN DE CONTROVERSIAS CONTRACTUALES: \\n\\nCódigo: F-GA-053 \\n\\nVersión: 2.0 \\n\\nElaboró: Área de Contratación \\n\\nRevisó: Área de Contratación \\n\\nPágina 4 de 6 \\n\\nAprobó: SGC \\n\\nCOPIA CONTROLADA \\n\\n \\n \\n \\n \\n(cid:9)\\n', 'CONTRATO DE PRESTACION DE \\nSERVICIOS \\n\\nCódigo: F-GA-053 \\n\\nVersión: 2.0 \\n\\nPágina 5 de 6 \\n\\nMUNICIPIO DE \\n\\nPIEDECUESTA \\n\\nDÉCIMO SEXTA - CLÁUSULA PENAL: \\n\\nDECLARACIONES DEL CONTRATISTA:  El Contratista hace las siguientes \\ndeclaraciones: 1) Conoce y acepta los Documentos del Proceso. 2) Tuvo la \\noportunidad de solicitar aclaraciones y modificaciones a los Documentos del Proceso \\ny recibió del MUNICIPIO respuesta oportuna a cada una de las solicitudes. 3) Se \\nencuentra debidamente facultado para suscribir el presente Contrato. 4) Que al \\nmomento de la celebración del presente contrato no se haya incurso en ninguna \\ncausal de inhabilidad e incompatibilidad. 5) Está a paz y salvo con sus obligaciones \\nlaborales y frente al sistema de seguridad social integral. 6) El valor del contrato \\nincluye todos los gastos, costos, derechos, impuestos, tasas y demás contribuciones \\nrelacionados con el cumplimiento del objeto del presente contrato. CLÁUSULA  \\n En caso de declaratoria de caducidad o de \\nincumplimiento total o parcial de las obligaciones del presente Contrato, el \\nCONTRATISTA debe pagar al MUNICIPIO, a título de tasación anticipada de \\nperjuicios, una suma equivalente al VEINTE POR CIENTO (20%). El valor pactado \\nde la presente cláusula penal es el de la estimación anticipada de perjuicios, no \\nobstante, la presente cláusula no impide el cobro de todos los perjuicios adicionales \\nque se causen sobre el citado valor. Este valor puede ser compensado con los montos \\nque el MUNICIPIO adeude al CONTRATISTA con ocasión de la ejecuci ón del \\npresente contrato, de conformidad con las reglas del Código Civil. \\n El CONTRATISTA se obliga a indemnizar al \\nMUNICIPIO con ocasión de la violación o el incumplimiento de las obligaciones previstas \\nen el presente contrato. El CONTRATISTA se obliga a mantener indemne al \\nMUNICIPIO de cualquier daño o perjuicio originado en reclamaciones de terceros que \\ntengan como causa sus actuaciones hasta por el monto del daño o perjuicio causado y \\nhasta por el valor del presente contrato. El CONTRATISTA mantendrá indemne a la \\nEntidad Estatal Contratante por cualquier obligación de carácter laboral o relacionado \\nque se originen en el incumplimiento de las obligaciones laborales que el Contratista \\nasume frente al personal, subordinados o terceros que se vinculen a la ejecución de las \\nobligaciones derivadas del presente Contrato. CLÁUSULA DÉCIMO OCTAVA —\\n\\nDÉCIMO SEPTIMA — INDEMNIDAD: \\n\\nCLÁUSULA  \\n\\nOBLIGATORIEDAD AFILIACIÓN AL SISTEMA DE RIESGOS LABORALES: \\n\\n El \\nContratista en cumplimiento al Decreto Único Reglamentario 1072 de 2015, el cual \\nestablece la afiliación obligatoria a riesgos laborales de las personas vinculadas \\nmediante contrato de prestaci ón de servicios, deberá afiliarse de forma inmediata a una \\nadministradora de riesgos laborales y presentar los soportes de dicha afiliación con el \\nfin de proceder a la ejecución del presente contrato. PARÁGRAFO: Cuando según la \\nactividad a desarrollar, la clase de riesgo sea o corresponda a nivel cuatro (4) o cinco \\n(5), la obligación de afiliación estará a cargo de la Entidad. \\n\\nCLÁUSULA DECIMA  \\nNOVENA - CASO FORTUITO Y FUERZA MAYOR:  Las partes quedan exoneradas de \\n\\nSUPERVISIÓN: \\n\\nmediante comunicación interna. CLÁUSULA VIGÉSIMO PRIMERA — CESIONES: \\n\\nresponsabilidad por el incumplimiento de cualquiera de sus obligaciones o por la demora \\nen la satisfacción de cualquiera de las prestaciones a su cargo derivadas del presente \\ncontrato, cuando el incumplimiento sea resultado o consecuencia de la ocurrencia de \\nun evento de fuerza mayor y caso fortuito debidamente invocadas y constatadas de \\nacuerdo con la ley y la jurisprudencia colombiana. CLÁUSULA VIGÉSIMA —\\n De conformidad con la ley 1474 de 2011, el Municipio controlará el \\npresente contrato a través del supervisor designado por el Ordenador del Gasto \\n El \\nCONTRATISTA no puede ceder parcial ni totalmente sus obligaciones o derechos \\nderivados del presente contrato sin la autorización previa, expresa y escrita del \\n Los avisos, \\nsolicitudes, comunicaciones y notificaciones que las partes deban hacer en desarrollo \\ndel presente contrato, deben constar por escrito y se entenderán debidamente \\nefectuadas sólo si son entregadas personalmente o por correo electrónico a la persona \\ny a las direcciones indicadas a continuación: \\n\\nMUNICIPIO. CLÁUSULA VIGÉSIMO SEGUNDA — NOTIFICACIONES: \\n\\nCódigo: F-GA-053 \\n\\nVersión: 2.0 \\n\\nElaboró: Área de Contratación \\n\\nRevisó: Área de Contratación \\n\\nPágina 5 de 6 \\n\\nAprobó: SGC \\n\\nCOPIA CONTROLADA \\n\\n \\n \\n \\n \\n', \"Código: F-GA-053 \\n\\nCONTRATO DE PRESTACION DE \\n\\nVersión: 2.0 \\n\\nSERVICIOS \\n\\nPágina 6 de 6 \\n\\nMUNICIPIO DE \\n\\nPIEDECUESTA \\n\\nMUNICIPIO \\n\\nCONTRATISTA \\n\\nNombre: MUNICIPIO DE PIEDECUESTA \\n\\nDirección: Carrera 7 No 9A3 \\n\\nNombre: ALEXANDRA FAJARDO CONTRERAS \\n\\nDirección: Carrera 7 No.1A-36 piso 2, Piedecuesta \\n\\nTeléfono 3012878012 \\n\\nCorreo Electrónico: alexafajardoc@gmaitcom \\n\\nCLÁUSULA VIGÉSIMO TERCERA — PERFECCIONAMIENTO Y EJECUCIÓN: \\n\\n El \\n\\npresente contrato sé perfeCcióna cón la firma de las partes y réquiere para su \\n\\nejecuci ón que EL CONTRATISTA acredite: 1) La expedición del Registro \\n\\nPresupuestal respectivo por parte de la entidad. 2) Afiliación a ARL. 3) Encontrarse \\n\\nactivo en el sistema de Seguridad Social (Salud y Pensión) 5) Suscripción del Acta \\n\\nde inicio. \\n\\nPara constancia se firma en el Municipio de Piedecuesta (Santander), a (cid:9)\\n\\nAGO 2020 \\n\\nPOR EL MUNICIPIO (cid:9)\\n\\nPOR EL ONTRAT A \\n\\ni\\n\\n/ \\n\\nE  \\n\\nNDEL (cid:9)\\n\\nSECRET RIO GEN r AL Y DE LAS TIC (cid:9)\\nORDEN • DOR DE GASTO \\n\\nIIMWM \\nALE NDRA, AJAR DO  O \\n\\nRERAS \\n\\nC.C. 0.338.7180 de (cid:9)\\n\\nta \\n\\nAprob \\nDerly amirez Serrano \\nDirec'.ra de Contratación \\n\\nProyecto: \\nAbog. Maria Camila Salazar Figueroa al \\nCPS 725-2020 \\n\\nCódigo: F-GA-053 \\n\\nElaboró: Área de Contratación \\n\\nVersión: 2.0 \\n\\nRevisó: Área de Contratación \\n\\nPágina 6 de 6 \\n\\nAprobó: SGC \\n\\nCOPIA CONTROLADA \\n\\n \\n \\n \\n \\n \\n \\n\"]}, {'uid': '20-4-11064044-10215723', 'name': '13-CONTRATO.pdf', 'pages': ['*% T^-C^JÍJ ^ SuM En Su 1%, B £ó Rimen.../CONTRATO DE PRESTACIÓN DESERVICIOS PROFESIONALESGESTIÓN DOCUMENTALJURÍDICAElaborado: 20/03/2010Actualizado: 05/05/2015CÓDIGO: CP-GJU-02Página 1 de 4Versión: 01CONTRATO DE PRESTACIÓN DE SERVICIOS DE APOYO A LA GESTIÓN No.321 DE 2020Fecha de Suscripcióndel ContratoContratanteContratistaNo. De Documento deIdentidad delContratistaNotificaciónTeléfonosObjeto ContractualValor InicialPlazo InicialSupervisor Asignado06 DE AGOSTO DE 2020ESE, HOSPITAL JORGE ISAAC RINCÓN TORRESDIANA MENDOZA GONZÁLEZC.C No. 37.370.363 EXPEDIDA EN CONVENCIÓNCRA 3B No. 1 3-42 LA JAGUA DE IBIRICO CESAR3178899807APOYO A LA GESTIÓN PARA ADELANTAR LOSPROCESOS DE FACTURACIÓN PARA EL RECAUDOINTEGRAL DE LOS INGRESOS DERIVADOS DE LOSSERVICIOS INSTITUCIONALES QUE OFRECE LA ESE.CINCO MILLONES OCHOCIENTOS MIL PESOS($5.800.000) M/LCUATRO (04) MESES Y VEINTICINCO (25) DÍASSHEILA RIVERA QUIROZ - LÍDER DE TALENTOHUMANOEntre los suscritos a saber: YURI JOSÉ ARIAS SILVA, varón, mayor de edad,identificado con la cédula de ciudadanía No. 15.171.834 expedida en la Jagua deIbiríco- Cesar, quien actúa en nombre y representación del HOSPITAL JORGE ISAACRINCÓN TORRES, Empresa Social del Estado, creada a través del Acuerdo MunicipalNo. 008 de 1995, identificada con el Nit: 824000543-7, nombrado mediante DecretoNo. GGE-00098, fechado 30 de abrí! de 2020, y debidamente posesionado ante elAlcalde Municipal de la Jagua de Ibirico- Cesar, OVELIO ENRIQUE JIMÉNEZMACHADO según Acta No. 2756 del 30 de abril de 2020, plenamente facultado paracelebrar éste tipo de acto jurídico; quien en adelante se denominará ELCONTRATANTE, por una parte y por la otra DIANA MENDOZA GONZÁLEZ,identificada con Cédula de Ciudadanía No. 37.370.363 expedida en convención, quienpara los efectos del presente documento se denominará EL CONTRATISTA, hemosacordado suscribir el presente contrato de, prestación de servicios de apoyo a lagestión previo las siguientes consideraciones: 1) que el objeto contractual, seencuentra incluido en el plan anual de adquisiciones de la ESE 2020, según elcertificado emitido por la dependencia de almacén, del 01 de agosto de 2020. 2) Quesegún el estudio de conveniencia y oportunidad de fecha 01 de agosto del 2020, quedóe-maí I: hosjagjja@hotmail.comCarrera 1 E 6-30 La Jagua de Ibirico- CesarP.BX. 5769055 - 5769060 - URGENCIAS - 5769122', \"V p*-Í^JJ & S.tí Si Üt ¡Wi, & ú FrimtJCONTRATO DE PRESTACIÓN DESERVICIOS PROFESIONALESGESTIÓN DOCUMENTALJURÍDICAElaborado: 20/03/2010Actualizado: 05/05/201 5CÓDIGO: CP-GJU-02Página 2 de 4Versión: 01plenamente sustentado la necesidad que se pretende contratar. 3) El Contratistapresentó los documentos relacionados como requisitos exigidos, en donde se pudoconstatar la idoneidad y experiencia requerida, lo cual quedo establecido en Certificadode Idoneidad y experiencia realizada el día 06 de agosto de 2020. Por estas razonesse ha determinado la viabilidad de la presente contratación la cual se regirá de maneraespecial por las cláusulas que a continuación se detallan PRIMERA: OBJETOCONTRACTUAL: APOYO A LA GESTIÓN PARA ADELANTAR LOS PROCESOS DEFACTURACIÓN PARA EL RECAUDO INTEGRAL DE LOS INGRESOS DERIVADOSDE LOS SERVICIOS INSTITUCIONALES QUE OFRECE LA ESE. - SEGUNDA:TERMINO DE DURACIÓN DEL SERVICIO CONTRATADO: La duración del presentecontrato Será de CUATRO (04) MESES Y VEINTICINCO (25) DÍAS contados a partirde la suscripción del acta de inicio, previo perfeccionamiento del contratoTERCERA:VALOR Y FORMA DE PAGO: El valor del presente contrato para efectos fiscales espor la suma de CINCO MILLONES OCHOCIENTOS MIL PESOS ($5.800.000) M/L loscuales le serán cancelados al contratista de la siguiente manera: Un primer pago porvalor de UN MILLÓN DE PESOS (1.000.000) M/L equivalentes a los 25 días delpresente mes y cuatro (04) mensualidades vencidas por valor de UN MILLÓNDOSCIENTOS MIL PESOS ($1.200,000) M/L cada una, previa a la presentación de lacuenta de cobro correspondiente, informe de actividades desarrolladas y la certificaciónde cumplimiento suscrita por el supervisor dei contrato; así como la acreditación delpago a seguridad social integral.CUARTA: OBLIGACIONES DEL CONTRATANTE. Elcontratante se obligará a: a) Realizar las gestiones necesarias que permitan desarrollaridóneamente el servicio profesional contratado por parte del contratista b) Facilitar elacceso oportuno a la información y equipos que se consideren pertinentes para laejecución del contrato; c) Cancelar las obligaciones económicas que adquiere con elcontratista por los servicios por esta prestados. QUINTA: OBLIGACIONES DELCONTRATISTA: 1). Realizar los ingresos en el sistema de los usuarios que llegan alservicio de consulta externa y a urgencias. 2.) Pedir los códigos de autorización a lasrespectivas EPS, contributivas, por eventos ETC. c.) Realizar la liquidación de lasHistorias clínicas. 3.) realizar el reporte de las remisiones. 4.) Realizar la facturación delas consultas odontológicas. 5.) Realizar la facturación de las consultas Médicas. 6.)Realizar la facturación de los controles prenatales. 7.) realizar la facturación de loscontroles de crecimiento y desarrollo. 8.) realizar la facturación de los controles deplanificación familiar. 9.) Realizar la facturación de los medicamentos. 10.) Realizar lafacturación de los exámenes de laboratorio. 11) Realizar la facturación de lasconsultas de atención al usuario. 12.) Realizar la facturación de los programasespeciales. 13.) realizar fa facturación de las consultas de nutrición. 14.) Realizar lafacturación de las curaciones. 15) Realizar la facturación de los retiros de puntos. 16.)Atender de manera oportuna las recomendaciones del supervisor del contratodesignado. 17.) Realizar la facturación del servicio de inyectología. 18.) Realizar lafacturación y liquidación de los partos. 19.) Realizar la facturación y liquidación de lashospitalizaciones. 20.) Realizar la facturación de vacunas. 21.) realizar todas lasfunciones que le encomiende el supervisor'en cumplimiento de su objeto Contractual.22) facturar y liquidar. 23) alimentar el programa de facturación R- FAX. w) verificacióndel 100% de usuarios de los servicios ambulatorios acorde con los procedimientosestablecidos para comprobador de derechos e identificación de los pagadores. 24)e-maii: hosiagua@hotmail.comCarrera 1 E 6-30 La Jagua de Ibirico- CesarP.BX. 5769055 - 5769060 - URGENCIAS - 5769122\", \"ai»*.^¿¿J Ca Stí 'En Oí Vik £í & 'Prime JCONTRATO DE PRESTACIÓN DESERVICIOS PROFESIONALESGESTIÓN DOCUMENTALJURÍDICAElaborado: 20/03/2010Actualizado: 05/05/201 5CÓDIGO: CP-GJU-02Página 3 de 4Versión: 0.1Generación del 100% de los servicios ambulatorios acorde con los procedimientos delhospital. 25) entrega organizada de la facturación diaria con los soportesadministrativos y clínicos acorde con los lineamientos y directrices procedimentales.26) Generación de facturas manuales en los eventos de fallos del sistema. 27) solicitarla anulación de facturas acorde con los procedimientos y registros implementados porel hospital. 28) prevenir la generación de glosas por evento al verificar y revisar que lossoportes se encuentren completos. 29) solicitar las autorizaciones y trámitesadministrativos para el reconocimiento de las cuentas por los diferentes pagadoresacorde con las normas vigentes. 30) solicitar al personal asistencia! informaciónrelacionada con las actividades y procedimientos realizados que eviten la subfacturación de servicios. 31) generar y entregar a la coordinación e! informe mensualde gestión que incluya avances en los procedimientos e inconsistencias presentadasen la admisión de los pacientes con el respectivo plan de mejora sugerido. 32). cumplirla programación a que se compromete para la prestación del servicio y/o cancelarlacon la debida anticipación, sin que ello acarree perjuicios a la ESE, siempre que mediejusta causa para dicha cancelación. 33) Presentar a los pagos correspondientes elinforme de actividades, la certificación de haber prestado el servicio, a satisfacción, elcomprobante de pago de aportes Al sistema der seguridad social en salud y pensionesen el régimen contributivo, por el periodo correspondiente, en de conformidad con loestablecido en el artículo 50 de la ley 789 de 2002 el artículo 1 de la ley 828 de 2003SEXTA: SUPERVISIÓN: La supervisión del presente contrato será ejercida por laJEFE DE TALENTO HUMANO de la ESE hospital Jorge Isaac Rincón Torres o a quienéste designe para tales efectos, quien vigilara el cumplimiento de todas y cada una delas obligaciones asumidas y podrá formular las observaciones del caso con el fin de seranalizadas conjuntamente con el contratista y efectuar por parte de éste lasmodificaciones o correcciones a que hubiere lugar. PARÁGRAFO: dentro de lasfunciones del supervisor y/o Interventor del presente contrato estarán: 1) verificar queel contratista cumpla con el objeto del contrato dentro del término estipulado para talfin. 2) corroborar y certificar, que el contratista cumpla con las condiciones ofrecidaspara la prestación del servicio objeto de este contrato. 3) informar dentro de los tres (3)primeros días hábiles al vencimiento del periodo de pago o del contrato, acerca de ladebida prestación del servicio, requisito previo para efectuar el pago al contratista. 4)informar a gerencia acerca del incumplimiento de las obligaciones contractuales porparte del contratista, para que se inicien las acciones legales correspondientes. 5)requerir al contratista para que acredite el cumplimiento de sus obligaciones con elSGSSS, lo anterior debe hacerse en estricta observancia de la ley. 6) las demás que lesean propias al cumplimiento de sus funciones, tendientes a garantizar la ejecuciónidónea de! objeto contratado. SÉPTIMA: GARANTÍAS: En el presente contrato no seránecesaria la constitución de garantías por parte del contratista teniendo en cuenta quesu forma de pago es posterior al cumplimiento de cada mes de actividades, por lo tantono se evidencia exigencia del amparo de eventuales riesgos por parte de la E.S.E. Deconformidad a lo establecido en la ley 1150 del 2007 en su artículo 7. De las garantíasen la contratación y el Decreto 1082 de 2015 Artículo 2.2.1.2.1.4.5 que disponeExcepciones a la estipulación de garantías. OCTAVA: TERMINACIÓN DELCONTRATO: Sin perjuicio de las acciones civiles administrativas o penales a quehubiere lugar, son justas causas para dar por terminado anticipadamente y de manerae-mail:hosiaqua@.hotmail.comCarrera 1 E 6-30 La Jagua de Ibirico- CesarP.BX. 5769055 - 5769060 - URGENCIAS - 5769122\", '. %^ V\"\"\"^\\'*-(sirf>J & $tí \"En 3« VA & & ítóiKw.-/CONTRATO DE PRESTACIÓN DESERVICIOS PROFESIONALESGESTIÓN DOCUMENTALJURÍDICAElaborado: 20/03/2010Actualizado: 05/05/2015CÓDIGO: CP-GJU-02Página 4 de 4Versión: 01unilateral el presente contrato por parte de la contratante: a) Por muerte o incapacidadfísica permanente del contratista, b) Por interdicción judicial de la contratista, c)Cuando se presenten hechos o actos manifiestos que denoten desmejoramiento en lacalidad del servicio contratado, d) Cuando se verifique que ei contratista estaba incursode alguna inhabilidad o incompatibilidad para suscribir este contrato o sobrevinierealguna de ellas durante su ejecución; y en general el incumplimiento a cualquiera delas obligaciones consignadas en la cláusula anterior. NOVENA: INDEPENDENCIADEL CONTRATISTA. El Contratista actuará por su propia cuenta con absolutaautonomía y sin estar sometido a subordinación laboral con El Contratante y no tendráderechos diferentes al de exigir el valor que se compromete a pagar El Contratante eneste contrato. DECIMA; EXCLUSIÓN DE LA RELACIÓN LABORAL. Quedaclaramente entendido que no existirá relación laboral alguna entre el contratante ycontratista. DECIMA PRIMERA: CESIÓN DEL CONTRATO. Queda totalmenteprohibido para el contratista el encargo o cesión parcial o total de los servicios aejecutar, sin el expreso consentimiento mediante autorización expresa y escrita de laparte contratante. DÉCIMA SEGUNDA: DOMICILIO CONTRACTUAL: Para todos losefectos legales el domicilio es el municipio de La Jagua De Ibirico - Cesar DECIMATERCERA: SOLUCIÓN DE CONFLICTOS. Toda diferencia que surja en virtud de lainterpretación, terminación o liquidación del presente contrato se hará conforme a losprocedimientos establecidos por el Código de procedimiento Civil y Código deComercio para este tipo de actos. DÉCIMA CUARTA: IMPUTACIÓNPRESUPUESTAL. La presente contratación se encuentra amparadapresupuestalmente con el Certificado de Disponibilidad Presupuesta! No. 820 del 01 deagosto de 2020, por valor de CINCO MILLONES OCHOCIENTOS MIL PESOS($5.800.000) M/L con cargo al rubro 2110102-1 Denominado: remuneración porservicios técnicos. DECIMA SÉPTIMA: PERFECCIONAMIENTO El presente contratose entiende perfeccionado con la firma de las partes y la expedición del registropresupuesta!. Dado a los siete (06) días del mes de agosto del año 2020, en elmunicipio de la Jagua De Ibirico Cesar.YURI JOSÉGefentá de/a ESE HJIRTtil ANA MHNDO,ContratistaZALEZNombres y ApellidosSHEILA R1VERO QUIROZCargoLÍDER DEHUMANORECURSOSFirma de Aceptacióne-mail:hosíagua@hotmail.cpmCarrera 1 E 6-30 La Jagua de Ibirico- CesarP.BX. 5769055 - 5769060 - URGENCIAS - 5769122']}]\n"
     ]
    }
   ],
   "source": [
    "import pdf2image\n",
    "import pandas as pd\n",
    "import os\n",
    "import re\n",
    "#import poppler\n",
    "\n",
    "\n",
    "path = '.\\\\datos'\n",
    "\n",
    "all_pdfs = []\n",
    "file=[]\n",
    "\n",
    "for root, directories, files in os.walk(path, topdown=False):\n",
    "  for name in files:\n",
    "    \n",
    "    if re.search(\"13-\", name.lower()):\n",
    "        uid = str(root.split(\"\\\\\")[2])\n",
    "        texto = leer_texto(path + \"\\\\\" + uid + \"\\\\\" + name, por_paginas=True, ocr=aplicar_ocr, preprocesamiento=3)\n",
    "#        escribir_texto(archivos_txt[i], texto)\n",
    "\n",
    "        all_pdfs.append({\n",
    "            \"uid\": uid,\n",
    "            \"name\": name,\n",
    "            \"pages\": texto\n",
    "        })\n",
    "\n",
    "\n",
    "\n",
    "print(all_pdfs)"
   ]
  },
  {
   "cell_type": "code",
   "execution_count": 70,
   "metadata": {},
   "outputs": [
    {
     "data": {
      "text/plain": [
       "[]"
      ]
     },
     "execution_count": 70,
     "metadata": {},
     "output_type": "execute_result"
    }
   ],
   "source": [
    "all_pdfs[]"
   ]
  },
  {
   "cell_type": "code",
   "execution_count": 4,
   "metadata": {},
   "outputs": [],
   "source": [
    "# Definir lista de archivos de entrada\n",
    "archivos_in = ['entrada/13--.pdf','entrada/13-00-2020-OC-83.pdf','entrada/13-190 DE 2020.pdf','entrada/13-194-2020.pdf','entrada/13-197-2020.pdf',\n",
    "               'entrada/13-4500089356 OP.pdf','entrada/13-8000006296.pdf','entrada/13-8000006323.pdf','entrada/13-8000006334.pdf']\n",
    "\n",
    "# Definir lista de archivos de salida, simplemente cambiando el nombre de la carpeta (\"salida\" en vez de \"entrada\")\n",
    "#archivos_out = [re.sub('entrada', 'salida', i) for i in archivos_in]\n",
    "archivos_txt = [re.sub('pdf', 'txt', i) for i in archivos_out]"
   ]
  },
  {
   "cell_type": "code",
   "execution_count": 7,
   "metadata": {},
   "outputs": [
    {
     "data": {
      "text/plain": [
       "['salida/13--.txt',\n",
       " 'salida/13-00-2020-OC-83.txt',\n",
       " 'salida/13-190 DE 2020.txt',\n",
       " 'salida/13-194-2020.txt',\n",
       " 'salida/13-197-2020.txt',\n",
       " 'salida/13-4500089356 OP.txt',\n",
       " 'salida/13-8000006296.txt',\n",
       " 'salida/13-8000006323.txt',\n",
       " 'salida/13-8000006334.txt']"
      ]
     },
     "execution_count": 7,
     "metadata": {},
     "output_type": "execute_result"
    }
   ],
   "source": [
    "archivos_txt = [re.sub('pdf', 'txt', i) for i in archivos_out]\n",
    "archivos_txt"
   ]
  },
  {
   "cell_type": "code",
   "execution_count": 8,
   "metadata": {},
   "outputs": [
    {
     "name": "stdout",
     "output_type": "stream",
     "text": [
      "------------\n",
      "entrada/13--.pdf\n",
      "------------\n",
      "entrada/13-00-2020-OC-83.pdf\n",
      "------------\n",
      "entrada/13-190 DE 2020.pdf\n",
      "------------\n",
      "entrada/13-194-2020.pdf\n",
      "------------\n",
      "entrada/13-197-2020.pdf\n",
      "------------\n",
      "entrada/13-4500089356 OP.pdf\n"
     ]
    },
    {
     "name": "stderr",
     "output_type": "stream",
     "text": [
      "WARNING:root:Cannot locate objid=397\n"
     ]
    },
    {
     "name": "stdout",
     "output_type": "stream",
     "text": [
      "------------\n",
      "entrada/13-8000006296.pdf\n"
     ]
    },
    {
     "name": "stderr",
     "output_type": "stream",
     "text": [
      "WARNING:root:Cannot locate objid=363\n"
     ]
    },
    {
     "name": "stdout",
     "output_type": "stream",
     "text": [
      "------------\n",
      "entrada/13-8000006323.pdf\n",
      "------------\n",
      "entrada/13-8000006334.pdf\n"
     ]
    }
   ],
   "source": [
    "for i, archivo in enumerate(archivos_in):\n",
    "    aplicar_ocr = True if 'ocr' in archivo else False\n",
    "    print('------------')\n",
    "    print(archivo)\n",
    "    texto = leer_texto(archivo, por_paginas=True, ocr=aplicar_ocr, preprocesamiento=3)\n",
    "    escribir_texto(archivos_txt[i], texto)\n",
    "    # Definir objeto de clase Escritor y escribir el texto en un nuevo archivo\n",
    "    #escritor = Escritor('salida/'.txt', texto)\n",
    "    #escritor.escribir_txt()"
   ]
  },
  {
   "cell_type": "code",
   "execution_count": null,
   "metadata": {},
   "outputs": [],
   "source": [
    "import matplotlib.pyplot as plt\n",
    "import matplotlib.image as mpimg\n",
    "\n",
    "img = mpimg.imread(archivo_img)\n",
    "\n",
    "plt.figure(figsize=(8,10))\n",
    "imgplot = plt.imshow(img)\n",
    "plt.axis('off')\n",
    "plt.show()"
   ]
  },
  {
   "cell_type": "code",
   "execution_count": 10,
   "metadata": {},
   "outputs": [],
   "source": [
    "# Definir objeto de clase Lector y extraer el texto\n",
    "lector = Lector('entrada/13-194-2020.pdf')\n",
    "texto = lector.archivo_a_texto(preprocesamiento=3)\n",
    "\n",
    "#print(f'*El texto extraído es:* \\n{texto}')\n",
    "\n",
    "# Definir objeto de clase Escritor y escribir el texto en un nuevo archivo\n",
    "escritor = Escritor('salida/13-194-2020-2.txt', texto)\n",
    "escritor.escribir_txt()"
   ]
  },
  {
   "cell_type": "code",
   "execution_count": null,
   "metadata": {},
   "outputs": [],
   "source": []
  }
 ],
 "metadata": {
  "kernelspec": {
   "display_name": "Python 3",
   "language": "python",
   "name": "python3"
  },
  "language_info": {
   "codemirror_mode": {
    "name": "ipython",
    "version": 3
   },
   "file_extension": ".py",
   "mimetype": "text/x-python",
   "name": "python",
   "nbconvert_exporter": "python",
   "pygments_lexer": "ipython3",
   "version": "3.7.3"
  }
 },
 "nbformat": 4,
 "nbformat_minor": 2
}
